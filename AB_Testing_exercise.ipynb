{
 "cells": [
  {
   "cell_type": "markdown",
   "metadata": {},
   "source": [
    ">## Background\n",
    "A fictional productivity software company that is looking for ways to increase the number of people who pay for their software. The way that the software is currently set up, **users can download and use the software free of charge, for a 7-day trial. After the end of the trial, users are required to pay for a license to continue using the software.**\n",
    "<br>\n",
    "<br>One idea that the company wants to try is to **change the layout of the homepage** to emphasize more prominently and higher up on the page that there is a 7-day trial available for the company's software. The current fear is that some potential users are missing out on using the software because of a lack of awareness of the trial period. If more people download the software and use it in the trial period, the hope is that this entices more people to make a purchase after seeing what the software can do.\n",
    "\n",
    "## 1. Metrics we want to increase for this AB_Testing:\n",
    "* Download rate (How many percentage of the users download the software for a 7-day trial\n",
    "* Purchase rate (How many percentage of the users purchase the license)\n",
    "\n",
    "## 2. Desired result:\n",
    "* result1: Download rate increases from 0.16 to 0.175\n",
    "* result2: Purchase rate increases from 0.02 to 0.023\n",
    "\n",
    "## 3. Experiment Sizing\n",
    "\n",
    "**We want to detect the 2 results at an overall 5% Type I error rate and at 80% power**\n",
    "<br>**Assumption: On average there are 3250 unique visitors every day**\n",
    "\n",
    "Because we are optimizing 2 metrics, each with ideally 5% significance leve. Measuring 2 metrics at the same time will increase the probability of type 1 error."
   ]
  },
  {
   "cell_type": "code",
   "execution_count": 1,
   "metadata": {},
   "outputs": [
    {
     "name": "stdout",
     "output_type": "stream",
     "text": [
      "Actual type 1 error: 0.0975\n"
     ]
    }
   ],
   "source": [
    "print(\"Actual type 1 error: {:.4}\".format(1-(1-0.05)**2))"
   ]
  },
  {
   "cell_type": "markdown",
   "metadata": {},
   "source": [
    "To resolve that, we will do a Bonferroni correction on the significance levels --> new significance levels = 0.025 "
   ]
  },
  {
   "cell_type": "code",
   "execution_count": 2,
   "metadata": {},
   "outputs": [
    {
     "name": "stdout",
     "output_type": "stream",
     "text": [
      "New actual type 1 error: 0.04938\n"
     ]
    }
   ],
   "source": [
    "print(\"New actual type 1 error: {:.4}\".format(1-(1-0.025)**2))"
   ]
  },
  {
   "cell_type": "code",
   "execution_count": 3,
   "metadata": {},
   "outputs": [],
   "source": [
    "import numpy as np\n",
    "import scipy.stats as stats\n",
    "\n",
    "def experiment_size(p_null, p_alt, alpha = .05, beta = .20):\n",
    "    \"\"\"\n",
    "    Compute the minimum number of samples needed to achieve a desired power\n",
    "    level for a given effect size.\n",
    "    \n",
    "    Input parameters:\n",
    "        p_null: base success rate under null hypothesis\n",
    "        p_alt : desired success rate to be detected\n",
    "        alpha : Type-I error rate\n",
    "        beta  : Type-II error rate\n",
    "    \n",
    "    Output value:\n",
    "        n : Number of samples required for each group to obtain desired power\n",
    "    \"\"\"\n",
    "    \n",
    "    # Get necessary z-scores and standard deviations (@ 1 obs per group)\n",
    "    z_null = stats.norm.ppf(1 - alpha)\n",
    "    z_alt  = stats.norm.ppf(beta)\n",
    "    sd_null = np.sqrt(p_null * (1-p_null) + p_null * (1-p_null))\n",
    "    sd_alt  = np.sqrt(p_null * (1-p_null) + p_alt  * (1-p_alt) )\n",
    "    \n",
    "    # Compute and return minimum sample size\n",
    "    p_diff = p_alt - p_null\n",
    "    n = ((z_null*sd_null - z_alt*sd_alt) / p_diff) ** 2\n",
    "    return np.ceil(n)"
   ]
  },
  {
   "cell_type": "code",
   "execution_count": 6,
   "metadata": {},
   "outputs": [
    {
     "name": "stdout",
     "output_type": "stream",
     "text": [
      "Experimental size to detect result 1 : 9481.0\n",
      "Days needed for result 1: 6.0\n",
      "Experimental size to detect result 2 : 34930.0\n",
      "Days needed for result 2: 21.0\n"
     ]
    }
   ],
   "source": [
    "size1 = experiment_size(0.16, 0.175, alpha = 0.025)\n",
    "\n",
    "print(\"Experimental size to detect result 1 : {}\".format(size1))\n",
    "print(\"Days needed for result 1: {}\".format(round(size1 * 2 / 3250)))\n",
    "\n",
    "size2 = experiment_size(0.02, 0.023, alpha = 0.025)\n",
    "\n",
    "print(\"Experimental size to detect result 2 : {}\".format(size2))\n",
    "print(\"Days needed for result 2: {}\".format(round(size2 * 2 / 3250)))"
   ]
  },
  {
   "cell_type": "markdown",
   "metadata": {},
   "source": [
    "We also need to keep in mind that there could be about seven days before a user account associated with a cookie actually comes back to make their purchase. To compensate that, we will run the experiment for one more week.\n",
    "\n",
    "We will run our experiment for **28** days"
   ]
  },
  {
   "cell_type": "markdown",
   "metadata": {},
   "source": [
    "## 4. Analyze the result"
   ]
  },
  {
   "cell_type": "code",
   "execution_count": 7,
   "metadata": {},
   "outputs": [],
   "source": [
    "import pandas as pd\n",
    "data = pd.read_csv(\"homepage-experiment-data.csv\")"
   ]
  },
  {
   "cell_type": "code",
   "execution_count": 8,
   "metadata": {},
   "outputs": [
    {
     "data": {
      "text/html": [
       "<div>\n",
       "<style scoped>\n",
       "    .dataframe tbody tr th:only-of-type {\n",
       "        vertical-align: middle;\n",
       "    }\n",
       "\n",
       "    .dataframe tbody tr th {\n",
       "        vertical-align: top;\n",
       "    }\n",
       "\n",
       "    .dataframe thead th {\n",
       "        text-align: right;\n",
       "    }\n",
       "</style>\n",
       "<table border=\"1\" class=\"dataframe\">\n",
       "  <thead>\n",
       "    <tr style=\"text-align: right;\">\n",
       "      <th></th>\n",
       "      <th>Day</th>\n",
       "      <th>Control Cookies</th>\n",
       "      <th>Control Downloads</th>\n",
       "      <th>Control Licenses</th>\n",
       "      <th>Experiment Cookies</th>\n",
       "      <th>Experiment Downloads</th>\n",
       "      <th>Experiment Licenses</th>\n",
       "    </tr>\n",
       "  </thead>\n",
       "  <tbody>\n",
       "    <tr>\n",
       "      <th>0</th>\n",
       "      <td>1</td>\n",
       "      <td>1764</td>\n",
       "      <td>246</td>\n",
       "      <td>1</td>\n",
       "      <td>1850</td>\n",
       "      <td>339</td>\n",
       "      <td>3</td>\n",
       "    </tr>\n",
       "    <tr>\n",
       "      <th>1</th>\n",
       "      <td>2</td>\n",
       "      <td>1541</td>\n",
       "      <td>234</td>\n",
       "      <td>2</td>\n",
       "      <td>1590</td>\n",
       "      <td>281</td>\n",
       "      <td>2</td>\n",
       "    </tr>\n",
       "    <tr>\n",
       "      <th>2</th>\n",
       "      <td>3</td>\n",
       "      <td>1457</td>\n",
       "      <td>240</td>\n",
       "      <td>1</td>\n",
       "      <td>1515</td>\n",
       "      <td>274</td>\n",
       "      <td>1</td>\n",
       "    </tr>\n",
       "    <tr>\n",
       "      <th>3</th>\n",
       "      <td>4</td>\n",
       "      <td>1587</td>\n",
       "      <td>224</td>\n",
       "      <td>1</td>\n",
       "      <td>1541</td>\n",
       "      <td>284</td>\n",
       "      <td>2</td>\n",
       "    </tr>\n",
       "    <tr>\n",
       "      <th>4</th>\n",
       "      <td>5</td>\n",
       "      <td>1606</td>\n",
       "      <td>253</td>\n",
       "      <td>2</td>\n",
       "      <td>1643</td>\n",
       "      <td>292</td>\n",
       "      <td>3</td>\n",
       "    </tr>\n",
       "  </tbody>\n",
       "</table>\n",
       "</div>"
      ],
      "text/plain": [
       "   Day  Control Cookies  Control Downloads  Control Licenses  \\\n",
       "0    1             1764                246                 1   \n",
       "1    2             1541                234                 2   \n",
       "2    3             1457                240                 1   \n",
       "3    4             1587                224                 1   \n",
       "4    5             1606                253                 2   \n",
       "\n",
       "   Experiment Cookies  Experiment Downloads  Experiment Licenses  \n",
       "0                1850                   339                    3  \n",
       "1                1590                   281                    2  \n",
       "2                1515                   274                    1  \n",
       "3                1541                   284                    2  \n",
       "4                1643                   292                    3  "
      ]
     },
     "execution_count": 8,
     "metadata": {},
     "output_type": "execute_result"
    }
   ],
   "source": [
    "data.head()"
   ]
  },
  {
   "cell_type": "markdown",
   "metadata": {},
   "source": [
    "### 4.1 Check the Invariant Metric\n",
    "\n",
    "check that the number of visitors assigned to each group is similar"
   ]
  },
  {
   "cell_type": "code",
   "execution_count": 11,
   "metadata": {},
   "outputs": [],
   "source": [
    "def p_invariant_metric(n_control, n_obs):\n",
    "    \n",
    "    \"\"\"\n",
    "    Compute the p value for observing the actual control group proportion in a binomial distribution B(n, 0.5)\n",
    "    \n",
    "    Null hypothese: The mean of the actual distribution of the control group proportion equals to 0.5\n",
    "    \n",
    "    Input:\n",
    "        n_control: size of control group\n",
    "        n: total number of visitors from both group\n",
    "    \"\"\"\n",
    "    p = 0.5 #if the assignment is random, we would expect the mean of control group proportion to be 0.5\n",
    "    sd = np.sqrt(p * (1-p) * n_obs)\n",
    "    z = ((n_control + 0.5) - p * n_obs) / sd #continuity correction on n_control\n",
    "    p_result = round(2 * stats.norm.cdf(-abs(z)), 4)\n",
    "    print(\"p value for observing the actual control group proportion and more extreme proportions in a binomial distribution B(n, 0.5): {}\".format(p_result))"
   ]
  },
  {
   "cell_type": "code",
   "execution_count": 12,
   "metadata": {},
   "outputs": [
    {
     "name": "stdout",
     "output_type": "stream",
     "text": [
      "p value for observing the actual control group proportion and more extreme proportions in a binomial distribution B(n, 0.5): 0.1075\n"
     ]
    }
   ],
   "source": [
    "p_invariant_metric(data['Control Cookies'].sum(), data['Control Cookies'].sum()+data['Experiment Cookies'].sum())"
   ]
  },
  {
   "cell_type": "markdown",
   "metadata": {},
   "source": [
    "Not significant enough to reject the null hypothese. We will consider that the number of visitors assigned to each group is similar."
   ]
  },
  {
   "cell_type": "markdown",
   "metadata": {},
   "source": [
    "### 4.2 Check the Evaluation Metric"
   ]
  },
  {
   "cell_type": "code",
   "execution_count": 13,
   "metadata": {},
   "outputs": [],
   "source": [
    "def p_evaluation_metrics(n_control, \n",
    "                                    n_exper, \n",
    "                                    p_null, \n",
    "                                    p_click_control,\n",
    "                                    p_click_exper,\n",
    "                                    alt=\"larger\"):\n",
    "    \n",
    "    \"\"\"\n",
    "    Statistical test to determine if we reached our goal;\n",
    "    \n",
    "    Input:\n",
    "        n_control: size of control group\n",
    "        n_exper: size of experiment group\n",
    "        p_click_control: goal hit rate for control group\n",
    "        p_click_exper: goal hit rate for experiment group\n",
    "        alt: the relationship between p_click_control and p_click_exper in alternative hypothesis;\n",
    "             larger: p_click_exper > p_click_control\n",
    "             small: p_click_exper < p_click_control\n",
    "             different p_click_exper is not equal to p_click_control\n",
    "    \"\"\"\n",
    "    \n",
    "    # compute standard error, z-score, and p-value\n",
    "    se_p = np.sqrt(p_null * (1-p_null) * (1/n_control + 1/n_exper))\n",
    "    z = (p_click_exper - p_click_control) / se_p\n",
    "    if alt == \"larger\":\n",
    "        p_result = 1-stats.norm.cdf(z)\n",
    "    elif alt == \"smaller\":\n",
    "        p_result = stats.norm.cdf(z)\n",
    "    elif alt == \"different\":\n",
    "        p_result = 2 * stats.norm.cdf(-abs(z))\n",
    "    print(\"Success rate for control group: {}; Success rate for experiment group: {}\".format(round(p_click_control, 4), round(p_click_exper, 4)))\n",
    "    print(\"p value: {}\".format(round(p_result, 4)))"
   ]
  },
  {
   "cell_type": "code",
   "execution_count": 14,
   "metadata": {},
   "outputs": [
    {
     "name": "stdout",
     "output_type": "stream",
     "text": [
      "Success rate for control group: 0.1612; Success rate for experiment group: 0.1805\n",
      "p value: 0.0\n"
     ]
    }
   ],
   "source": [
    "#Download rate\n",
    "p_evaluation_metrics(data['Control Cookies'].sum(),\n",
    "                              data['Experiment Cookies'].sum(),\n",
    "                              (data['Control Downloads'].sum() + data['Experiment Downloads'].sum()) / (data['Control Cookies'].sum() + data['Experiment Cookies'].sum()),\n",
    "                              data['Control Downloads'].sum()  / data['Control Cookies'].sum(),\n",
    "                              data['Experiment Downloads'].sum() / data['Experiment Cookies'].sum())"
   ]
  },
  {
   "cell_type": "markdown",
   "metadata": {},
   "source": [
    "Download rate increases from 0.1612 to 0.1805 and the p value for rejecting the null hypothesis is 0. It's very convincing that the new website layout increased the download rate."
   ]
  },
  {
   "cell_type": "code",
   "execution_count": 15,
   "metadata": {},
   "outputs": [
    {
     "name": "stdout",
     "output_type": "stream",
     "text": [
      "Success rate for control group: 0.021; Success rate for experiment group: 0.0213\n",
      "p value: 0.3979\n"
     ]
    }
   ],
   "source": [
    "#Puchase rate\n",
    "p_evaluation_metrics(data['Control Cookies'][:-8].sum(),\n",
    "                              data['Experiment Cookies'][:-8].sum(),\n",
    "                              (data['Control Licenses'].sum() + data['Experiment Licenses'].sum()) / (data['Control Cookies'][:-8].sum() + data['Experiment Cookies'][:-8].sum()),\n",
    "                              data['Control Licenses'].sum()  / data['Control Cookies'][:-8].sum(),\n",
    "                              data['Experiment Licenses'].sum() / data['Experiment Cookies'][:-8].sum())"
   ]
  },
  {
   "cell_type": "markdown",
   "metadata": {},
   "source": [
    "Only the first 21 days of cookies account for all purchases. License purchasing rate, only shows a small increase from 0.0210 to 0.0213 and it's not significant enough for us to say that we have increased the purchase rate."
   ]
  },
  {
   "cell_type": "markdown",
   "metadata": {},
   "source": [
    "## 5. Conclusion\n",
    "\n",
    "Despite the fact that statistical significance wasn't obtained for the number of licenses purchased, the new homepage appeared to have a strong effect on the number of downloads made. Based on our goals, this seems enough to suggest replacing the old homepage with the new homepage. Establishing whether there was a significant increase in the number of license purchases, either through the rate or the increase in the number of homepage visits, will need to wait for further experiments or data collection.\n",
    "\n",
    "One inference we might like to make is that the new homepage attracted new users who would not normally try out the program, but that these new users didn't convert to purchases at the same rate as the existing user base. This is a nice story to tell, but we can't actually say that with the data as given. In order to make this inference, we would need more detailed information about individual visitors that isn't available. However, if the software did have the capability of reporting usage statistics, that might be a way of seeing if certain profiles are more likely to purchase a license. This might then open additional ideas for improving revenue."
   ]
  }
 ],
 "metadata": {
  "kernelspec": {
   "display_name": "Python 3",
   "language": "python",
   "name": "python3"
  },
  "language_info": {
   "codemirror_mode": {
    "name": "ipython",
    "version": 3
   },
   "file_extension": ".py",
   "mimetype": "text/x-python",
   "name": "python",
   "nbconvert_exporter": "python",
   "pygments_lexer": "ipython3",
   "version": "3.7.1"
  }
 },
 "nbformat": 4,
 "nbformat_minor": 2
}
